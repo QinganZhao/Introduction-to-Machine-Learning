{
 "cells": [
  {
   "cell_type": "code",
   "execution_count": 13,
   "metadata": {},
   "outputs": [],
   "source": [
    "import numpy as np\n",
    "import matplotlib.pyplot as plt\n",
    "import os\n",
    "import math\n",
    "\n",
    "plot_col = ['r', 'g', 'b', 'k', 'm']\n",
    "plot_mark = ['o', '^', 'v', 'D', 'x', '+']\n",
    "\n",
    "# Plots the rows in 'ymat' on the y-axis vs. 'xvec' on the x-axis\n",
    "# with labels 'ylabels'\n",
    "# and saves figure as pdf to 'dirname/filename' \n",
    "def plotmatnsave(ymat, xvec, ylabels, dirname, filename):\n",
    "    no_lines = len(ymat)\n",
    "    fig = plt.figure(0)\n",
    "\n",
    "    if len(ylabels) > 1:\n",
    "        for i in range(no_lines):\n",
    "            xs = np.array(xvec)\n",
    "            ys = np.array(ymat[i])\n",
    "            plt.plot(xs, ys, color = plot_col[i % len(plot_col)], lw=1, label=ylabels[i])\n",
    "        \n",
    "        lgd = plt.legend(bbox_to_anchor=(0., 1.02, 1., .102), loc=3, ncol=3, mode=\"expand\", borderaxespad=0.)\n",
    "\n",
    "    savepath = os.path.join(dirname, filename)\n",
    "    plt.xlabel('$x$', labelpad=10)\n",
    "    plt.ylabel('$f(x)$', labelpad=10)\n",
    "    plt.savefig(savepath, bbox_extra_artists=(lgd,), bbox_inches='tight')\n",
    "    plt.close()\n",
    "\n",
    "# Sets the labels\n",
    "labels = ['$e^x$', '1st order', '2nd order', '3rd order', '4th order']\n",
    "\n",
    "# TODO: Given x values in \"x_vec\", save the respective function values e^x,\n",
    "# and its first to fourth degree Taylor approximations\n",
    "# as rows in the matrix \"y_mat\"\n",
    "x_vec = np.arange(-4, 3.1, 0.1)\n",
    "y_mat = [np.exp(x_vec), 1+x_vec, 1+x_vec+0.5*x_vec**2, 1+x_vec+0.5*x_vec**2+x_vec**2/6, 1+x_vec+0.5*x_vec**2+x_vec**2/6+x_vec**4/24]\n",
    "\n",
    "\n",
    "# Define filename, invoke plotmatnsave\n",
    "filename = 'approx_plot.pdf'\n",
    "plotmatnsave(y_mat, x_vec, labels, '.', filename)\n",
    "\n",
    "\n"
   ]
  },
  {
   "cell_type": "code",
   "execution_count": 16,
   "metadata": {},
   "outputs": [],
   "source": [
    "# Plot the second figure\n",
    "x_vec2 = np.arange(-20, 8.1, 0.1)\n",
    "y_mat2 = [np.exp(x_vec), 1+x_vec, 1+x_vec+0.5*x_vec**2, 1+x_vec+0.5*x_vec**2+x_vec**2/6, 1+x_vec+0.5*x_vec**2+x_vec**2/6+x_vec**4/24]\n",
    "filename2 = 'approx_plot2.pdf'\n",
    "plotmatnsave(y_mat2, x_vec2, labels, '.', filename2)"
   ]
  },
  {
   "cell_type": "code",
   "execution_count": null,
   "metadata": {
    "collapsed": true
   },
   "outputs": [],
   "source": []
  }
 ],
 "metadata": {
  "kernelspec": {
   "display_name": "Python 3",
   "language": "python",
   "name": "python3"
  },
  "language_info": {
   "codemirror_mode": {
    "name": "ipython",
    "version": 3
   },
   "file_extension": ".py",
   "mimetype": "text/x-python",
   "name": "python",
   "nbconvert_exporter": "python",
   "pygments_lexer": "ipython3",
   "version": "3.6.3"
  }
 },
 "nbformat": 4,
 "nbformat_minor": 2
}
