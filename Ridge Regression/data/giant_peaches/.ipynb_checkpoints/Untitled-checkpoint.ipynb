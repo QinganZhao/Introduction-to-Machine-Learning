{
 "cells": [
  {
   "cell_type": "code",
   "execution_count": 25,
   "metadata": {},
   "outputs": [
    {
     "data": {
      "image/png": "[encoded data removed]",
      "text/plain": [
       "<matplotlib.figure.Figure at 0x1816525f98>"
      ]
     },
     "metadata": {},
     "output_type": "display_data"
    }
   ],
   "source": [
    "#!/usr/bin/env python3\n",
    "\n",
    "import matplotlib.pyplot as plt\n",
    "import numpy as np\n",
    "import scipy.io as spio\n",
    "\n",
    "\n",
    "# There is numpy.linalg.lstsq, whicn you should use outside of this classs\n",
    "def lstsq(A, b):\n",
    "    return np.linalg.solve(A.T @ A, A.T @ b)\n",
    "\n",
    "\n",
    "def main():\n",
    "    data = spio.loadmat('1D_poly.mat', squeeze_me=True)\n",
    "    x_train = np.array(data['x_train'])\n",
    "    y_train = np.array(data['y_train']).T\n",
    "\n",
    "    n = 20  # max degree\n",
    "    err = np.zeros(n - 1)\n",
    "\n",
    "    # fill in err\n",
    "    A = np.array([1] * n)\n",
    "    for i in range(n-1):\n",
    "        D = i + 1\n",
    "        for j in range(D+1):\n",
    "            if j==0:\n",
    "                A = np.array([1] * n)\n",
    "            else:\n",
    "                A = np.vstack([x_train ** j, A])\n",
    "        A = A.T\n",
    "        W = lstsq(A, y_train) \n",
    "        y_hat = A @ W\n",
    "        err[i] = (np.linalg.norm(y_train - y_hat) ** 2)/n\n",
    "    # YOUR CODE HERE\n",
    "\n",
    "    plt.plot(err)\n",
    "    plt.xlabel('Degree of Polynomial')\n",
    "    plt.ylabel('Training Error')\n",
    "    plt.show()\n",
    "\n",
    "\n",
    "if __name__ == \"__main__\":\n",
    "    main()\n",
    "\n"
   ]
  },
  {
   "cell_type": "code",
   "execution_count": 20,
   "metadata": {},
   "outputs": [
    {
     "ename": "LinAlgError",
     "evalue": "Singular matrix",
     "output_type": "error",
     "traceback": [
      "\u001b[0;31m---------------------------------------------------------------------------\u001b[0m",
      "\u001b[0;31mLinAlgError\u001b[0m                               Traceback (most recent call last)",
      "\u001b[0;32m<ipython-input-20-9d798516347c>\u001b[0m in \u001b[0;36m<module>\u001b[0;34m()\u001b[0m\n\u001b[1;32m     13\u001b[0m         \u001b[0mA\u001b[0m \u001b[0;34m=\u001b[0m \u001b[0mnp\u001b[0m\u001b[0;34m.\u001b[0m\u001b[0mvstack\u001b[0m\u001b[0;34m(\u001b[0m\u001b[0;34m[\u001b[0m\u001b[0mx_train\u001b[0m \u001b[0;34m**\u001b[0m \u001b[0mj\u001b[0m\u001b[0;34m,\u001b[0m \u001b[0mA\u001b[0m\u001b[0;34m]\u001b[0m\u001b[0;34m)\u001b[0m\u001b[0;34m\u001b[0m\u001b[0m\n\u001b[1;32m     14\u001b[0m     \u001b[0mA\u001b[0m \u001b[0;34m=\u001b[0m \u001b[0mA\u001b[0m\u001b[0;34m.\u001b[0m\u001b[0mT\u001b[0m\u001b[0;34m\u001b[0m\u001b[0m\n\u001b[0;32m---> 15\u001b[0;31m     \u001b[0mW\u001b[0m \u001b[0;34m=\u001b[0m \u001b[0mlstsq\u001b[0m\u001b[0;34m(\u001b[0m\u001b[0mA\u001b[0m\u001b[0;34m,\u001b[0m \u001b[0my_train\u001b[0m\u001b[0;34m)\u001b[0m\u001b[0;34m\u001b[0m\u001b[0m\n\u001b[0m\u001b[1;32m     16\u001b[0m     \u001b[0my_hat\u001b[0m \u001b[0;34m=\u001b[0m \u001b[0mA\u001b[0m\u001b[0;34m.\u001b[0m\u001b[0mT\u001b[0m \u001b[0;34m@\u001b[0m \u001b[0mW\u001b[0m\u001b[0;34m\u001b[0m\u001b[0m\n\u001b[1;32m     17\u001b[0m     \u001b[0merr\u001b[0m\u001b[0;34m[\u001b[0m\u001b[0mi\u001b[0m\u001b[0;34m]\u001b[0m \u001b[0;34m=\u001b[0m \u001b[0;34m(\u001b[0m\u001b[0mnp\u001b[0m\u001b[0;34m.\u001b[0m\u001b[0mlinalg\u001b[0m\u001b[0;34m.\u001b[0m\u001b[0mnorm\u001b[0m\u001b[0;34m(\u001b[0m\u001b[0my_train\u001b[0m \u001b[0;34m-\u001b[0m \u001b[0my_hat\u001b[0m\u001b[0;34m)\u001b[0m \u001b[0;34m**\u001b[0m \u001b[0;36m2\u001b[0m\u001b[0;34m)\u001b[0m\u001b[0;34m/\u001b[0m\u001b[0mn\u001b[0m\u001b[0;34m\u001b[0m\u001b[0m\n",
      "\u001b[0;32m<ipython-input-18-2206ed9d27dc>\u001b[0m in \u001b[0;36mlstsq\u001b[0;34m(A, b)\u001b[0m\n\u001b[1;32m      8\u001b[0m \u001b[0;31m# There is numpy.linalg.lstsq, whicn you should use outside of this classs\u001b[0m\u001b[0;34m\u001b[0m\u001b[0;34m\u001b[0m\u001b[0m\n\u001b[1;32m      9\u001b[0m \u001b[0;32mdef\u001b[0m \u001b[0mlstsq\u001b[0m\u001b[0;34m(\u001b[0m\u001b[0mA\u001b[0m\u001b[0;34m,\u001b[0m \u001b[0mb\u001b[0m\u001b[0;34m)\u001b[0m\u001b[0;34m:\u001b[0m\u001b[0;34m\u001b[0m\u001b[0m\n\u001b[0;32m---> 10\u001b[0;31m     \u001b[0;32mreturn\u001b[0m \u001b[0mnp\u001b[0m\u001b[0;34m.\u001b[0m\u001b[0mlinalg\u001b[0m\u001b[0;34m.\u001b[0m\u001b[0msolve\u001b[0m\u001b[0;34m(\u001b[0m\u001b[0mA\u001b[0m\u001b[0;34m.\u001b[0m\u001b[0mT\u001b[0m \u001b[0;34m@\u001b[0m \u001b[0mA\u001b[0m\u001b[0;34m,\u001b[0m \u001b[0mA\u001b[0m\u001b[0;34m.\u001b[0m\u001b[0mT\u001b[0m \u001b[0;34m@\u001b[0m \u001b[0mb\u001b[0m\u001b[0;34m)\u001b[0m\u001b[0;34m\u001b[0m\u001b[0m\n\u001b[0m\u001b[1;32m     11\u001b[0m \u001b[0;34m\u001b[0m\u001b[0m\n\u001b[1;32m     12\u001b[0m \u001b[0;34m\u001b[0m\u001b[0m\n",
      "\u001b[0;32m~/anaconda3/lib/python3.6/site-packages/numpy/linalg/linalg.py\u001b[0m in \u001b[0;36msolve\u001b[0;34m(a, b)\u001b[0m\n\u001b[1;32m    373\u001b[0m     \u001b[0msignature\u001b[0m \u001b[0;34m=\u001b[0m \u001b[0;34m'DD->D'\u001b[0m \u001b[0;32mif\u001b[0m \u001b[0misComplexType\u001b[0m\u001b[0;34m(\u001b[0m\u001b[0mt\u001b[0m\u001b[0;34m)\u001b[0m \u001b[0;32melse\u001b[0m \u001b[0;34m'dd->d'\u001b[0m\u001b[0;34m\u001b[0m\u001b[0m\n\u001b[1;32m    374\u001b[0m     \u001b[0mextobj\u001b[0m \u001b[0;34m=\u001b[0m \u001b[0mget_linalg_error_extobj\u001b[0m\u001b[0;34m(\u001b[0m\u001b[0m_raise_linalgerror_singular\u001b[0m\u001b[0;34m)\u001b[0m\u001b[0;34m\u001b[0m\u001b[0m\n\u001b[0;32m--> 375\u001b[0;31m     \u001b[0mr\u001b[0m \u001b[0;34m=\u001b[0m \u001b[0mgufunc\u001b[0m\u001b[0;34m(\u001b[0m\u001b[0ma\u001b[0m\u001b[0;34m,\u001b[0m \u001b[0mb\u001b[0m\u001b[0;34m,\u001b[0m \u001b[0msignature\u001b[0m\u001b[0;34m=\u001b[0m\u001b[0msignature\u001b[0m\u001b[0;34m,\u001b[0m \u001b[0mextobj\u001b[0m\u001b[0;34m=\u001b[0m\u001b[0mextobj\u001b[0m\u001b[0;34m)\u001b[0m\u001b[0;34m\u001b[0m\u001b[0m\n\u001b[0m\u001b[1;32m    376\u001b[0m \u001b[0;34m\u001b[0m\u001b[0m\n\u001b[1;32m    377\u001b[0m     \u001b[0;32mreturn\u001b[0m \u001b[0mwrap\u001b[0m\u001b[0;34m(\u001b[0m\u001b[0mr\u001b[0m\u001b[0;34m.\u001b[0m\u001b[0mastype\u001b[0m\u001b[0;34m(\u001b[0m\u001b[0mresult_t\u001b[0m\u001b[0;34m,\u001b[0m \u001b[0mcopy\u001b[0m\u001b[0;34m=\u001b[0m\u001b[0;32mFalse\u001b[0m\u001b[0;34m)\u001b[0m\u001b[0;34m)\u001b[0m\u001b[0;34m\u001b[0m\u001b[0m\n",
      "\u001b[0;32m~/anaconda3/lib/python3.6/site-packages/numpy/linalg/linalg.py\u001b[0m in \u001b[0;36m_raise_linalgerror_singular\u001b[0;34m(err, flag)\u001b[0m\n\u001b[1;32m     88\u001b[0m \u001b[0;34m\u001b[0m\u001b[0m\n\u001b[1;32m     89\u001b[0m \u001b[0;32mdef\u001b[0m \u001b[0m_raise_linalgerror_singular\u001b[0m\u001b[0;34m(\u001b[0m\u001b[0merr\u001b[0m\u001b[0;34m,\u001b[0m \u001b[0mflag\u001b[0m\u001b[0;34m)\u001b[0m\u001b[0;34m:\u001b[0m\u001b[0;34m\u001b[0m\u001b[0m\n\u001b[0;32m---> 90\u001b[0;31m     \u001b[0;32mraise\u001b[0m \u001b[0mLinAlgError\u001b[0m\u001b[0;34m(\u001b[0m\u001b[0;34m\"Singular matrix\"\u001b[0m\u001b[0;34m)\u001b[0m\u001b[0;34m\u001b[0m\u001b[0m\n\u001b[0m\u001b[1;32m     91\u001b[0m \u001b[0;34m\u001b[0m\u001b[0m\n\u001b[1;32m     92\u001b[0m \u001b[0;32mdef\u001b[0m \u001b[0m_raise_linalgerror_nonposdef\u001b[0m\u001b[0;34m(\u001b[0m\u001b[0merr\u001b[0m\u001b[0;34m,\u001b[0m \u001b[0mflag\u001b[0m\u001b[0;34m)\u001b[0m\u001b[0;34m:\u001b[0m\u001b[0;34m\u001b[0m\u001b[0m\n",
      "\u001b[0;31mLinAlgError\u001b[0m: Singular matrix"
     ]
    }
   ],
   "source": [
    "data = spio.loadmat('1D_poly.mat', squeeze_me=True)\n",
    "x_train = np.array(data['x_train'])\n",
    "y_train = np.array(data['y_train']).T\n",
    "\n",
    "n = 20  # max degree\n",
    "err = np.zeros(n - 1)\n",
    "\n",
    "    # fill in err\n",
    "for i in range(n-1):\n",
    "    D = i + 1\n",
    "    for j in range(D+1):\n",
    "        if j==0:\n",
    "            \n",
    "        A = np.vstack([x_train ** j, A])\n",
    "    A = A.T\n",
    "    W = lstsq(A, y_train) \n",
    "    y_hat = A.T @ W\n",
    "    err[i] = (np.linalg.norm(y_train - y_hat) ** 2)/n\n",
    "    # YOUR CODE HERE\n",
    "\n",
    "plt.plot(err)\n",
    "plt.xlabel('Degree of Polynomial')\n",
    "plt.ylabel('Training Error')\n",
    "plt.show()"
   ]
  },
  {
   "cell_type": "code",
   "execution_count": 23,
   "metadata": {},
   "outputs": [
    {
     "data": {
      "text/plain": [
       "array([1, 1, 1, 1, 1, 1, 1, 1, 1, 1, 1, 1, 1, 1, 1, 1, 1, 1, 1, 1])"
      ]
     },
     "execution_count": 23,
     "metadata": {},
     "output_type": "execute_result"
    }
   ],
   "source": [
    "A"
   ]
  },
  {
   "cell_type": "code",
   "execution_count": 34,
   "metadata": {},
   "outputs": [
    {
     "data": {
      "image/png": "[encoded data removed]",
      "text/plain": [
       "<matplotlib.figure.Figure at 0x18165227f0>"
      ]
     },
     "metadata": {},
     "output_type": "display_data"
    }
   ],
   "source": [
    "# problem 6d\n",
    "\n",
    "import matplotlib.pyplot as plt\n",
    "import numpy as np\n",
    "import scipy.io as spio\n",
    "\n",
    "\n",
    "# There is numpy.linalg.lstsq, whicn you should use outside of this classs\n",
    "def lstsq(A, b):\n",
    "    return np.linalg.solve(A.T @ A, A.T @ b)\n",
    "\n",
    "\n",
    "def main():\n",
    "    data = spio.loadmat('1D_poly.mat', squeeze_me=True)\n",
    "    x_train = np.array(data['x_train'])\n",
    "    y_train = np.array(data['y_train']).T\n",
    "    y_fresh = np.array(data['y_fresh']).T\n",
    "\n",
    "    n = 20  # max degree\n",
    "    err_train = np.zeros(n - 1)\n",
    "    err_fresh = np.zeros(n - 1)\n",
    "\n",
    "    # fill in err_fresh and err_train\n",
    "    for i in range(n-1):\n",
    "        D = i + 1\n",
    "        for j in range(D+1):\n",
    "            if j==0:\n",
    "                A = np.array([1] * n)\n",
    "            else:\n",
    "                A = np.vstack([x_train ** j, A])\n",
    "        A = A.T\n",
    "        W = lstsq(A, y_train)\n",
    "        y_hat = A @ W\n",
    "        err_train[i] = (np.linalg.norm(y_train - y_hat) ** 2)/n\n",
    "        err_fresh[i] = (np.linalg.norm(y_fresh - y_hat) ** 2)/n\n",
    "    # YOUR CODE HERE\n",
    "\n",
    "    plt.figure()\n",
    "    plt.ylim([0, 6])\n",
    "    plt.plot(err_train, label='train')\n",
    "    plt.plot(err_fresh, label='fresh')\n",
    "    plt.legend()\n",
    "    plt.show()\n",
    "\n",
    "\n",
    "if __name__ == \"__main__\":\n",
    "    main()\n",
    "\n",
    "\n"
   ]
  },
  {
   "cell_type": "code",
   "execution_count": 33,
   "metadata": {},
   "outputs": [
    {
     "data": {
      "text/plain": [
       "array([ 11.43517643,   9.15939136,   7.79121686,   7.64604858,\n",
       "         7.2842167 ,   7.64649196,   8.2666563 ,   7.86691196,\n",
       "         8.30315368,   9.72401144,   9.50953025,  10.25750217,\n",
       "        11.22305493,  14.01833207,  16.10368296,  15.80407223,\n",
       "        21.97631689,  25.46609601,  34.03048174,  42.56554904])"
      ]
     },
     "execution_count": 33,
     "metadata": {},
     "output_type": "execute_result"
    }
   ],
   "source": [
    "y_train"
   ]
  },
  {
   "cell_type": "code",
   "execution_count": null,
   "metadata": {
    "collapsed": true
   },
   "outputs": [],
   "source": [
    "import matplotlib.pyplot as plt\n",
    "import numpy as np\n",
    "import pandas as pd\n",
    "import scipy.io as spio\n",
    "\n",
    "data = spio.loadmat('polynomial_regression_samples.mat', squeeze_me=True)\n",
    "data_x = data['x']\n",
    "data_y = data['y']\n",
    "Kc = 4  # 4-fold cross validation\n",
    "KD = 6  # max D = 6\n",
    "LAMBDA = [0, 0.05, 0.1, 0.15, 0.2]\n",
    "\n",
    "\n",
    "def fit(D, lambda_):\n",
    "    #err = np.zeros(n + 1)\n",
    "    A = np.array([1] * 5)\n",
    "    for j in range(D+1):\n",
    "        A = np.vstack([data_x ** j, A])\n",
    "    A = A.T\n",
    "    W = np.linalg.inv(A.T @ A + lambda_ @ np.matrix(np.identity(KD))) @ A.T @ data_y\n",
    "    y_hat = A @ W\n",
    "    err = (np.linalg.norm(y_train - y_hat) ** 2)/n\n",
    "    return err\n",
    "    # YOUR CODE TO COMPUTE THE AVERAGE ERROR PER SAMPLE\n",
    "    \n",
    "\n",
    "\n",
    "def main():\n",
    "    np.set_printoptions(precision=11)\n",
    "    Etrain = np.zeros((KD, len(LAMBDA)))\n",
    "    Evalid = np.zeros((KD, len(LAMBDA)))\n",
    "    for D in range(KD):\n",
    "        print(D)\n",
    "        for i in range(len(LAMBDA)):\n",
    "            Etrain[D, i], Evalid[D, i] = fit(D + 1, LAMBDA[i])\n",
    "\n",
    "    print('Average train error:', Etrain, sep='\\n')\n",
    "    print('Average valid error:', Evalid, sep='\\n')\n",
    "\n",
    "    # YOUR CODE to find best D and i\n",
    "\n",
    "\n",
    "if __name__ == \"__main__\":\n",
    "    main()\n",
    "\n"
   ]
  },
  {
   "cell_type": "code",
   "execution_count": 36,
   "metadata": {},
   "outputs": [
    {
     "data": {
      "text/plain": [
       "matrix([[ 1.,  0.,  0.],\n",
       "        [ 0.,  1.,  0.],\n",
       "        [ 0.,  0.,  1.]])"
      ]
     },
     "execution_count": 36,
     "metadata": {},
     "output_type": "execute_result"
    }
   ],
   "source": [
    "np.matrix(np.identity(3))"
   ]
  },
  {
   "cell_type": "code",
   "execution_count": 3,
   "metadata": {},
   "outputs": [],
   "source": [
    "A = np.array([1] * 5)\n",
    "for j in range(2+1):\n",
    "    A = np.vstack([data_x ** j, A])\n",
    "A = A.T"
   ]
  },
  {
   "cell_type": "code",
   "execution_count": 1,
   "metadata": {
    "collapsed": true
   },
   "outputs": [],
   "source": [
    "import matplotlib.pyplot as plt\n",
    "import numpy as np\n",
    "import pandas as pd\n",
    "import scipy.io as spio\n",
    "\n",
    "data = spio.loadmat('polynomial_regression_samples.mat', squeeze_me=True)\n",
    "data_x = data['x']\n",
    "data_y = data['y']\n",
    "Kc = 4  # 4-fold cross validation\n",
    "KD = 6  # max D = 6\n",
    "LAMBDA = [0, 0.05, 0.1, 0.15, 0.2]"
   ]
  },
  {
   "cell_type": "code",
   "execution_count": null,
   "metadata": {},
   "outputs": [],
   "source": [
    "A.T.dot(A)"
   ]
  },
  {
   "cell_type": "code",
   "execution_count": null,
   "metadata": {
    "collapsed": true
   },
   "outputs": [],
   "source": [
    "fit(2,0.1)"
   ]
  },
  {
   "cell_type": "code",
   "execution_count": 48,
   "metadata": {},
   "outputs": [
    {
     "data": {
      "text/plain": [
       "array([[-0.0963728 , -0.08653028, -0.0311563 , -0.04982882, -0.06423248],\n",
       "       [-0.01914529,  0.04967885,  0.00363335, -0.04549159,  0.05396517],\n",
       "       [ 0.08841612,  0.02585844, -0.00017123, -0.04069409, -0.09145454],\n",
       "       ..., \n",
       "       [-0.02372765,  0.05880506,  0.06872046, -0.08455554, -0.06840088],\n",
       "       [ 0.05271218, -0.02336013, -0.06770073, -0.09082807,  0.05144121],\n",
       "       [-0.05857526, -0.05709096, -0.02838865,  0.01909572, -0.04962651]])"
      ]
     },
     "execution_count": 48,
     "metadata": {},
     "output_type": "execute_result"
    }
   ],
   "source": [
    "data_x"
   ]
  },
  {
   "cell_type": "code",
   "execution_count": 51,
   "metadata": {
    "collapsed": true
   },
   "outputs": [],
   "source": [
    "A = np.array([1] * 5)"
   ]
  },
  {
   "cell_type": "code",
   "execution_count": 43,
   "metadata": {},
   "outputs": [
    {
     "data": {
      "text/plain": [
       "array([1, 1, 1, 1, 1, 1])"
      ]
     },
     "execution_count": 43,
     "metadata": {},
     "output_type": "execute_result"
    }
   ],
   "source": [
    "A"
   ]
  },
  {
   "cell_type": "code",
   "execution_count": null,
   "metadata": {
    "collapsed": true
   },
   "outputs": [],
   "source": []
  }
 ],
 "metadata": {
  "kernelspec": {
   "display_name": "Python 3",
   "language": "python",
   "name": "python3"
  },
  "language_info": {
   "codemirror_mode": {
    "name": "ipython",
    "version": 3
   },
   "file_extension": ".py",
   "mimetype": "text/x-python",
   "name": "python",
   "nbconvert_exporter": "python",
   "pygments_lexer": "ipython3",
   "version": "3.6.3"
  }
 },
 "nbformat": 4,
 "nbformat_minor": 2
}
